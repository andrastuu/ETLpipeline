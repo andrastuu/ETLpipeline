import pandas as pd
import matplotlib.pyplot as plt
import seaborn as sns

# Set consistent visualization style
sns.set(style="whitegrid", palette="muted", font_scale=1.1)

# Load data
df = pd.read_csv("/Users/macbookpro/Documents/brokerchooser-etl/output/final_output.csv")

# --- Basic Overview ---
print("Total records:", len(df))
print("Matched users:", df["was_matched"].sum())

# Convert timestamp
df["Broker Timestamp"] = pd.to_datetime(df["Broker Timestamp"])

# Filter for matched users
matched_df = df[df["was_matched"] == True]

# --- Top Countries by Matched Users ---
top_countries = matched_df["Country Residency"].value_counts().head(10)
plt.figure(figsize=(10,6))
sns.barplot(x=top_countries.values, y=top_countries.index, palette="viridis")
plt.title("Top 10 Countries by Matched Users")
plt.xlabel("Number of Matched Users")
plt.ylabel("Country")
plt.tight_layout()
plt.show()

# --- Time Series: Weekly Match Activity ---
time_series = matched_df.set_index("Broker Timestamp").resample("W")["Id"].count()
plt.figure(figsize=(12,6))
time_series.plot(marker='o')
plt.title("Weekly Matched Users Over Time")
plt.xlabel("Week")
plt.ylabel("Matched Users")
plt.tight_layout()
plt.show()

# --- User Interest by Page Category ---
plt.figure(figsize=(10,6))
sns.countplot(data=matched_df, y="page_category", order=matched_df["page_category"].value_counts().index, palette="coolwarm")
plt.title("Page Category Interest Among Matched Users")
plt.xlabel("User Count")
plt.ylabel("Page Category")
plt.tight_layout()
plt.show()

# --- Measurement Category by Country (Heatmap) ---
pivot = matched_df.pivot_table(index="Country Residency", columns="Measurement Category", values="Id", aggfunc="count", fill_value=0)
plt.figure(figsize=(14,10))
sns.heatmap(pivot, cmap="YlGnBu", linewidths=0.5)
plt.title("Measurement Category Engagement by Country")
plt.tight_layout()
plt.show()

# --- Device Type Split ---
device_split = matched_df["Is Mobile"].value_counts(normalize=True).rename({True: "Mobile", False: "Desktop"})
plt.figure(figsize=(6,6))
device_split.plot.pie(autopct='%1.1f%%', startangle=90, colors=["#66c2a5", "#fc8d62"])
plt.title("Device Usage Split (Mobile vs Desktop)")
plt.ylabel("")
plt.tight_layout()
plt.show()